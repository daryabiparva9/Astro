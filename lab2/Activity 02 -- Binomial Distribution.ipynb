{
 "cells": [
  {
   "cell_type": "markdown",
   "id": "0cd51130",
   "metadata": {},
   "source": [
    "## Activity 02\n",
    "\n",
    "In this activity you will continue practicing with the ideas of inference, simulations, posteriors and Bayesian best practices. \n",
    "\n",
    "Today, you will work with galaxies. More specifically, with a particular class of objects, called [Green Peas](https://en.wikipedia.org/wiki/Pea_galaxy). Green Peas are small galaxies (1 to 10\\% the mass of the Milky Way), but are forming stars at a much faster rate compared to our own galaxy. It is not clear why Green Peas are forming stars at such a fast pace. One possibility is that the formation of new stars is triggered by interactions with nearby companions.\n",
    "\n",
    "To test this hypotesis, Laufman et al. (2022) used new and archival data to search for companions around a sample of 23 Green Pea galaxies, and around a sample of 43 normal galaxies, matched in stellar mass and distance to the sample of Green Peas (but with normal star-formation rates). The data were obtained with the [MUSE spectrograph](https://www.eso.org/sci/facilities/develop/instruments/muse.html) on the [Very large Telescope](https://www.eso.org/sci/facilities/paranal.html) in Chile. \n",
    "\n",
    "The results of the analysis are collected in the file Laufman_Table2.dat, which includes the following columns:\n",
    "\n",
    "- Galaxy         : object identifier\t\n",
    "- has_companion  : a flag that identify whether or not the galaxy has a companion  (1= has a companion, 0 =does not have a companion)\n",
    "- GP             : Is it a Green Pea or a Normal Galaxy ? 1=GP  2= Normal Galaxy\n",
    "\n",
    "You will use the data to estimate the probability that a galaxy has a companion. You will make this estimate for both samples, the Green Peas and the normal galaxies.\n",
    "\n",
    "**1**\n",
    "Perform a visual inspection of the data, for both samples. What kind of data do you have? How do they differ from the data you had last week?\n",
    "\n",
    "**2**\n",
    "Build a statistical model as discussed in lecture. Clearly explain it. Including a motivation for the choice of the probability of observing the data, given the uknown parameter, and the probability of the parameter.  Clearly explain how you compute the constants for the prior.\n",
    "\n",
    "**3**\n",
    "Write a code to compute the model. As usual, follow best practices when writing your code [you will share the code with us]. Make sure the code is well commented and can easily be read by humans. Check that the code's paths are not specific to your machine. For reproducibility, set the seed for the pseudo-random number generator explicitly. \n",
    "\n",
    "**4**\n",
    "Plot the posterior distribution functions, and compute the position of the posterior's maximum and its 95\\% credible interval. \n",
    "\n",
    "**5**\n",
    "Perform and describe a sensitivity analysis (i.e., discuss how the choice of the prior influences the result).\n",
    "\n",
    "**6** \n",
    "Using the analysis you performed above, would you be comfortable stating \"The Green Pea galaxies are clearly different from the normal galaxy population\"? Why yes or why not?\n"
   ]
  },
  {
   "cell_type": "code",
   "execution_count": 1,
   "id": "c4ca1b84",
   "metadata": {},
   "outputs": [],
   "source": [
    "import numpy as np"
   ]
  },
  {
   "cell_type": "code",
   "execution_count": 3,
   "id": "25f26817",
   "metadata": {},
   "outputs": [
    {
     "ename": "ValueError",
     "evalue": "could not convert string to float: 'J094458.22-004545.4'",
     "output_type": "error",
     "traceback": [
      "\u001b[0;31m---------------------------------------------------------------------------\u001b[0m",
      "\u001b[0;31mValueError\u001b[0m                                Traceback (most recent call last)",
      "\u001b[1;32m/home/bipar001/anaconda3/python_test/Astro/lab2/Activity 02 -- Binomial Distribution.ipynb Cell 3\u001b[0m in \u001b[0;36m<cell line: 1>\u001b[0;34m()\u001b[0m\n\u001b[0;32m----> <a href='vscode-notebook-cell:/home/bipar001/anaconda3/python_test/Astro/lab2/Activity%2002%20--%20Binomial%20Distribution.ipynb#W2sZmlsZQ%3D%3D?line=0'>1</a>\u001b[0m data_table \u001b[39m=\u001b[39m np\u001b[39m.\u001b[39;49mloadtxt(\u001b[39m'\u001b[39;49m\u001b[39mLaufman_Table2.dat\u001b[39;49m\u001b[39m'\u001b[39;49m, delimiter\u001b[39m=\u001b[39;49m\u001b[39m'\u001b[39;49m\u001b[39m \u001b[39;49m\u001b[39m'\u001b[39;49m)\n",
      "File \u001b[0;32m~/anaconda3/envs/causallearn/lib/python3.10/site-packages/numpy/lib/npyio.py:1163\u001b[0m, in \u001b[0;36mloadtxt\u001b[0;34m(fname, dtype, comments, delimiter, converters, skiprows, usecols, unpack, ndmin, encoding, max_rows, like)\u001b[0m\n\u001b[1;32m   1159\u001b[0m         \u001b[39mraise\u001b[39;00m \u001b[39mValueError\u001b[39;00m(\n\u001b[1;32m   1160\u001b[0m             \u001b[39mf\u001b[39m\u001b[39m\"\u001b[39m\u001b[39mWrong number of columns at line \u001b[39m\u001b[39m{\u001b[39;00mlineno\u001b[39m}\u001b[39;00m\u001b[39m\"\u001b[39m)\n\u001b[1;32m   1161\u001b[0m     \u001b[39m# Convert each value according to its column, then pack it\u001b[39;00m\n\u001b[1;32m   1162\u001b[0m     \u001b[39m# according to the dtype's nesting, and store it.\u001b[39;00m\n\u001b[0;32m-> 1163\u001b[0m     chunk\u001b[39m.\u001b[39mappend(packer(convert_row(words)))\n\u001b[1;32m   1164\u001b[0m \u001b[39mif\u001b[39;00m \u001b[39mnot\u001b[39;00m chunk:  \u001b[39m# The islice is empty, i.e. we're done.\u001b[39;00m\n\u001b[1;32m   1165\u001b[0m     \u001b[39mbreak\u001b[39;00m\n",
      "File \u001b[0;32m~/anaconda3/envs/causallearn/lib/python3.10/site-packages/numpy/lib/npyio.py:1142\u001b[0m, in \u001b[0;36mloadtxt.<locals>.convert_row\u001b[0;34m(vals, _conv)\u001b[0m\n\u001b[1;32m   1141\u001b[0m \u001b[39mdef\u001b[39;00m \u001b[39mconvert_row\u001b[39m(vals, _conv\u001b[39m=\u001b[39mconverters[\u001b[39m0\u001b[39m]):\n\u001b[0;32m-> 1142\u001b[0m     \u001b[39mreturn\u001b[39;00m [\u001b[39m*\u001b[39m\u001b[39mmap\u001b[39m(_conv, vals)]\n",
      "File \u001b[0;32m~/anaconda3/envs/causallearn/lib/python3.10/site-packages/numpy/lib/npyio.py:725\u001b[0m, in \u001b[0;36m_floatconv\u001b[0;34m(x)\u001b[0m\n\u001b[1;32m    723\u001b[0m \u001b[39mdef\u001b[39;00m \u001b[39m_floatconv\u001b[39m(x):\n\u001b[1;32m    724\u001b[0m     \u001b[39mtry\u001b[39;00m:\n\u001b[0;32m--> 725\u001b[0m         \u001b[39mreturn\u001b[39;00m \u001b[39mfloat\u001b[39;49m(x)  \u001b[39m# The fastest path.\u001b[39;00m\n\u001b[1;32m    726\u001b[0m     \u001b[39mexcept\u001b[39;00m \u001b[39mValueError\u001b[39;00m:\n\u001b[1;32m    727\u001b[0m         \u001b[39mif\u001b[39;00m \u001b[39m'\u001b[39m\u001b[39m0x\u001b[39m\u001b[39m'\u001b[39m \u001b[39min\u001b[39;00m x:  \u001b[39m# Don't accidentally convert \"a\" (\"0xa\") to 10.\u001b[39;00m\n",
      "\u001b[0;31mValueError\u001b[0m: could not convert string to float: 'J094458.22-004545.4'"
     ]
    }
   ],
   "source": [
    "data_table = np.loadtxt('Laufman_Table2.dat', delimiter=' ')"
   ]
  },
  {
   "cell_type": "code",
   "execution_count": null,
   "id": "e5673349",
   "metadata": {},
   "outputs": [],
   "source": []
  },
  {
   "cell_type": "code",
   "execution_count": 10,
   "id": "c02df1c5",
   "metadata": {},
   "outputs": [
    {
     "name": "stdout",
     "output_type": "stream",
     "text": [
      "['J094458.22-004545.4', 'J130211.15-000516.4', 'J232539.23+004507.2', 'J032244.89+004442.3', 'J012910.15+145934.6', 'J030321.41-075923.2', 'J032613.62-063512.5', 'J033947.79-072541.2', 'J105716.72+023207.0', 'J124423.37+021540.4', 'J084216.95+033806.6', 'J154709.10+033614.0', 'J223735.05+133647.0', 'J144231.37-020952.0', 'J103138.93+071556.5', 'J124834.63+123402.9', 'J160436.66+081959.1', 'J155925.97+084119.1', 'J101157.08+130822.0', 'J163719.30+143904.9', 'J092532.36+140313.1', 'J161306.31+092949.1', 'J080518.06+092533.3', 'NORMAL-1', 'NORMAL-2', 'NORMAL-3', 'NORMAL-4', 'NORMAL-5', 'NORMAL-6', 'NORMAL-7', 'NORMAL-8', 'NORMAL-9', 'NORMAL-10', 'NORMAL-11', 'NORMAL-12', 'NORMAL-13', 'NORMAL-14', 'NORMAL-15', 'NORMAL-16', 'NORMAL-17', 'NORMAL-18', 'NORMAL-19', 'NORMAL-20', 'NORMAL-21', 'NORMAL-22', 'NORMAL-23', 'NORMAL-24', 'NORMAL-25', 'NORMAL-26', 'NORMAL-27', 'NORMAL-28', 'NORMAL-29', 'NORMAL-30', 'NORMAL-31', 'NORMAL-32', 'NORMAL-33', 'NORMAL-34', 'NORMAL-35', 'NORMAL-36', 'NORMAL-37', 'NORMAL-38', 'NORMAL-39', 'NORMAL-40', 'NORMAL-41', 'NORMAL-42', 'NORMAL-43']\n",
      "[1, 0, 0, 0, 0, 0, 0, 0, 0, 0, 0, 0, 0, 0, 0, 1, 0, 0, 0, 1, 0, 1, 0, 0, 0, 0, 0, 0, 0, 0, 0, 0, 0, 0, 0, 0, 0, 0, 0, 0, 0, 0, 0, 0, 0, 0, 0, 0, 0, 0, 0, 0, 0, 0, 0, 0, 0, 0, 0, 0, 0, 0, 0, 0, 0, 0]\n",
      "[0.0, 0.0, 0.0, 0.0, 0.0, 0.0, 0.0, 0.0, 0.0, 0.0, 0.0, 0.0, 0.0, 0.0, 0.0, 0.0, 0.0, 0.0, 0.0, 0.0, 0.0, 0.0, 0.0, 2.0, 2.0, 2.0, 2.0, 2.0, 2.0, 2.0, 2.0, 2.0, 2.0, 2.0, 2.0, 2.0, 2.0, 2.0, 2.0, 2.0, 2.0, 2.0, 2.0, 2.0, 2.0, 2.0, 2.0, 2.0, 2.0, 2.0, 2.0, 2.0, 2.0, 2.0, 2.0, 2.0, 2.0, 2.0, 2.0, 2.0, 2.0, 2.0, 2.0, 2.0, 2.0, 2.0]\n"
     ]
    }
   ],
   "source": [
    "galaxy = []\n",
    "has_comp = []\n",
    "gp = []\n",
    "with open('Laufman_Table2.dat', 'r') as f:\n",
    "    header = f.readline()\n",
    "    lines = f.readlines()\n",
    "    for line in lines:\n",
    "        gp.append(float(line.split()[2][0]))\n",
    "        has_comp.append(int(line.split()[1]))\n",
    "        galaxy.append(line.split()[0])\n",
    "    \n",
    "print(galaxy)\n",
    "print(has_comp)\n",
    "print(gp)\n",
    "    "
   ]
  },
  {
   "cell_type": "code",
   "execution_count": 12,
   "id": "1ce4a6c9",
   "metadata": {},
   "outputs": [],
   "source": [
    "import pandas as pd"
   ]
  },
  {
   "cell_type": "code",
   "execution_count": 13,
   "id": "3491edc7",
   "metadata": {},
   "outputs": [],
   "source": [
    "df = pd.DataFrame({'Galaxy': galaxy, 'Has Companion': has_comp, 'GP': gp})"
   ]
  },
  {
   "cell_type": "code",
   "execution_count": 16,
   "id": "274ca5ea",
   "metadata": {},
   "outputs": [
    {
     "data": {
      "text/html": [
       "<div>\n",
       "<style scoped>\n",
       "    .dataframe tbody tr th:only-of-type {\n",
       "        vertical-align: middle;\n",
       "    }\n",
       "\n",
       "    .dataframe tbody tr th {\n",
       "        vertical-align: top;\n",
       "    }\n",
       "\n",
       "    .dataframe thead th {\n",
       "        text-align: right;\n",
       "    }\n",
       "</style>\n",
       "<table border=\"1\" class=\"dataframe\">\n",
       "  <thead>\n",
       "    <tr style=\"text-align: right;\">\n",
       "      <th></th>\n",
       "      <th>Galaxy</th>\n",
       "      <th>Has Companion</th>\n",
       "      <th>GP</th>\n",
       "    </tr>\n",
       "  </thead>\n",
       "  <tbody>\n",
       "    <tr>\n",
       "      <th>0</th>\n",
       "      <td>J094458.22-004545.4</td>\n",
       "      <td>1</td>\n",
       "      <td>0.0</td>\n",
       "    </tr>\n",
       "    <tr>\n",
       "      <th>1</th>\n",
       "      <td>J130211.15-000516.4</td>\n",
       "      <td>0</td>\n",
       "      <td>0.0</td>\n",
       "    </tr>\n",
       "    <tr>\n",
       "      <th>2</th>\n",
       "      <td>J232539.23+004507.2</td>\n",
       "      <td>0</td>\n",
       "      <td>0.0</td>\n",
       "    </tr>\n",
       "    <tr>\n",
       "      <th>3</th>\n",
       "      <td>J032244.89+004442.3</td>\n",
       "      <td>0</td>\n",
       "      <td>0.0</td>\n",
       "    </tr>\n",
       "    <tr>\n",
       "      <th>4</th>\n",
       "      <td>J012910.15+145934.6</td>\n",
       "      <td>0</td>\n",
       "      <td>0.0</td>\n",
       "    </tr>\n",
       "    <tr>\n",
       "      <th>...</th>\n",
       "      <td>...</td>\n",
       "      <td>...</td>\n",
       "      <td>...</td>\n",
       "    </tr>\n",
       "    <tr>\n",
       "      <th>61</th>\n",
       "      <td>NORMAL-39</td>\n",
       "      <td>0</td>\n",
       "      <td>2.0</td>\n",
       "    </tr>\n",
       "    <tr>\n",
       "      <th>62</th>\n",
       "      <td>NORMAL-40</td>\n",
       "      <td>0</td>\n",
       "      <td>2.0</td>\n",
       "    </tr>\n",
       "    <tr>\n",
       "      <th>63</th>\n",
       "      <td>NORMAL-41</td>\n",
       "      <td>0</td>\n",
       "      <td>2.0</td>\n",
       "    </tr>\n",
       "    <tr>\n",
       "      <th>64</th>\n",
       "      <td>NORMAL-42</td>\n",
       "      <td>0</td>\n",
       "      <td>2.0</td>\n",
       "    </tr>\n",
       "    <tr>\n",
       "      <th>65</th>\n",
       "      <td>NORMAL-43</td>\n",
       "      <td>0</td>\n",
       "      <td>2.0</td>\n",
       "    </tr>\n",
       "  </tbody>\n",
       "</table>\n",
       "<p>66 rows × 3 columns</p>\n",
       "</div>"
      ],
      "text/plain": [
       "                 Galaxy  Has Companion   GP\n",
       "0   J094458.22-004545.4              1  0.0\n",
       "1   J130211.15-000516.4              0  0.0\n",
       "2   J232539.23+004507.2              0  0.0\n",
       "3   J032244.89+004442.3              0  0.0\n",
       "4   J012910.15+145934.6              0  0.0\n",
       "..                  ...            ...  ...\n",
       "61            NORMAL-39              0  2.0\n",
       "62            NORMAL-40              0  2.0\n",
       "63            NORMAL-41              0  2.0\n",
       "64            NORMAL-42              0  2.0\n",
       "65            NORMAL-43              0  2.0\n",
       "\n",
       "[66 rows x 3 columns]"
      ]
     },
     "execution_count": 16,
     "metadata": {},
     "output_type": "execute_result"
    }
   ],
   "source": [
    "df"
   ]
  },
  {
   "cell_type": "code",
   "execution_count": 15,
   "id": "a51930ca",
   "metadata": {},
   "outputs": [],
   "source": [
    "import matplotlib.pyplot as plt\n"
   ]
  },
  {
   "cell_type": "markdown",
   "id": "ca84f134",
   "metadata": {},
   "source": [
    "What I got from looking at the data is that 4 out of 23 green peas have companion. None of the normal galaxies do."
   ]
  },
  {
   "cell_type": "markdown",
   "id": "27e845d3",
   "metadata": {},
   "source": [
    "The difference from last week is that the variable we were studying last week was a continuous variable. This time we are dealing with a binary variable."
   ]
  },
  {
   "cell_type": "code",
   "execution_count": 20,
   "id": "fb08bcfb",
   "metadata": {},
   "outputs": [
    {
     "data": {
      "text/plain": [
       "<AxesSubplot:>"
      ]
     },
     "execution_count": 20,
     "metadata": {},
     "output_type": "execute_result"
    },
    {
     "data": {
      "image/png": "[encoded data removed]",
      "text/plain": [
       "<Figure size 432x288 with 1 Axes>"
      ]
     },
     "metadata": {
      "needs_background": "light"
     },
     "output_type": "display_data"
    }
   ],
   "source": [
    "df.loc[df['GP'] == 0, 'Has Companion'].value_counts().plot(kind='bar', color='blue', label='GP = 0')"
   ]
  },
  {
   "cell_type": "markdown",
   "id": "88c2a374",
   "metadata": {},
   "source": [
    "So above is the distribution of companions for greeen peas."
   ]
  },
  {
   "cell_type": "code",
   "execution_count": 22,
   "id": "9737f7df",
   "metadata": {},
   "outputs": [],
   "source": [
    "gp_comp = df.loc[df['GP'] == 0, 'Has Companion'].value_counts()"
   ]
  },
  {
   "cell_type": "code",
   "execution_count": 23,
   "id": "6b863ce4",
   "metadata": {},
   "outputs": [
    {
     "data": {
      "text/plain": [
       "0    19\n",
       "1     4\n",
       "Name: Has Companion, dtype: int64"
      ]
     },
     "execution_count": 23,
     "metadata": {},
     "output_type": "execute_result"
    }
   ],
   "source": [
    "#this is the summary of data for green peas\n",
    "gp_comp"
   ]
  },
  {
   "cell_type": "code",
   "execution_count": 24,
   "id": "051cc4de",
   "metadata": {},
   "outputs": [],
   "source": [
    "normal_comp = df.loc[df['GP'] == 2, 'Has Companion'].value_counts()"
   ]
  },
  {
   "cell_type": "code",
   "execution_count": 26,
   "id": "76ddb227",
   "metadata": {},
   "outputs": [
    {
     "data": {
      "text/plain": [
       "0    43\n",
       "Name: Has Companion, dtype: int64"
      ]
     },
     "execution_count": 26,
     "metadata": {},
     "output_type": "execute_result"
    }
   ],
   "source": [
    "#this is the summary of data for normal\n",
    "normal_comp\n"
   ]
  },
  {
   "cell_type": "markdown",
   "id": "6bfa4b38",
   "metadata": {},
   "source": [
    "#Question 2"
   ]
  },
  {
   "cell_type": "markdown",
   "id": "017f2583",
   "metadata": {},
   "source": [
    "To find the statistical model that reprents the data we can either use a likelihood distribution or a posterior, I am gonna do both since I don't have a good prior in mind\n",
    "\n",
    "likelihood estimate :\n",
    "\\begin{equation}\n",
    "X | \\theta \\sim Binomial(n, \\theta) \\\\\n",
    "\\theta \\sim Beta(a, b)\n",
    "\\end{equation}\n",
    "I do not know a and b, so I just choose $a = 1, b = 1$.\n",
    "But I will also try for a setting like : $a = 1, b = 4 $( assuming that some of the green peas have companion)\n",
    "\n",
    "\\begin{equation}\n",
    "\\theta | X \\sim Beta(a + x, n + b - x)\\\\\n",
    "\\theta | X \\sim Beta(5, 20)\\\\\n",
    "\n",
    "\n",
    "\\end{equation}\n",
    "or for the second choice of posterior \n",
    "\n",
    "\\begin{equation}\n",
    "\n",
    "\\theta | X \\sim Beta(5, 24)\\\\\n",
    "\n",
    "\n",
    "\\end{equation}\n",
    "So our estimate of $\\theta$ is the mean of these two distributions we found\n",
    "\n",
    "$\\hat{\\theta} = \\frac{a}{a + b}$"
   ]
  },
  {
   "cell_type": "code",
   "execution_count": 27,
   "id": "12d389cc",
   "metadata": {},
   "outputs": [],
   "source": [
    "#to simulate this we first set the seed"
   ]
  },
  {
   "cell_type": "code",
   "execution_count": 28,
   "id": "b921014d",
   "metadata": {},
   "outputs": [],
   "source": [
    "np.random.seed(42)"
   ]
  },
  {
   "cell_type": "code",
   "execution_count": 30,
   "id": "5336e8c4",
   "metadata": {},
   "outputs": [
    {
     "name": "stdout",
     "output_type": "stream",
     "text": [
      "expected_theta for the first prior choice is 0.2\n"
     ]
    }
   ],
   "source": [
    "expected_theta1 = 5 / (20 + 5)\n",
    "#this is the expected theta for the first prior choice\n",
    "print(f'expected_theta for the first prior choice is {expected_theta1}')"
   ]
  },
  {
   "cell_type": "code",
   "execution_count": 32,
   "id": "bda3049e",
   "metadata": {},
   "outputs": [
    {
     "name": "stdout",
     "output_type": "stream",
     "text": [
      "expected theta for the second choice of prior is 0.1724137931034483\n"
     ]
    }
   ],
   "source": [
    "expected_theta2 = 5 /(24 + 5)\n",
    "#this is the expected theta for the second prior choice\n",
    "print(f'expected theta for the second choice of prior is {expected_theta2}')"
   ]
  },
  {
   "cell_type": "code",
   "execution_count": 33,
   "id": "94d5bb2a",
   "metadata": {},
   "outputs": [],
   "source": [
    "#to show the beta distribution we use the beta function"
   ]
  },
  {
   "cell_type": "code",
   "execution_count": 39,
   "id": "2bee65c9",
   "metadata": {},
   "outputs": [],
   "source": [
    "from scipy.stats import beta\n",
    "#\n",
    "\n",
    "#\n",
    "x = np.linspace(0, 1, 500)\n",
    "#\n"
   ]
  },
  {
   "cell_type": "code",
   "execution_count": 45,
   "id": "e6f5e60a",
   "metadata": {},
   "outputs": [
    {
     "data": {
      "text/plain": [
       "<matplotlib.legend.Legend at 0x7efe801dee90>"
      ]
     },
     "execution_count": 45,
     "metadata": {},
     "output_type": "execute_result"
    },
    {
     "data": {
      "image/png": "[encoded data removed]",
      "text/plain": [
       "<Figure size 432x288 with 1 Axes>"
      ]
     },
     "metadata": {
      "needs_background": "light"
     },
     "output_type": "display_data"
    }
   ],
   "source": [
    "plt.plot(x, beta.pdf(x, 5, 20))\n",
    "plt.plot(x, beta.pdf(x, 5, 24), color='red')\n",
    "plt.plot(x, beta.pdf(x, 1, 1), color='green')\n",
    "plt.plot(x, beta.pdf(x, 1, 4), color='orange')\n",
    "plt.legend(['posterior 1', 'Posterior 2', 'Prior1', 'Prior2'])\n",
    "#this is the plot of the posteriors and priors"
   ]
  },
  {
   "cell_type": "markdown",
   "id": "0a101d42",
   "metadata": {},
   "source": [
    "#Question 4"
   ]
  },
  {
   "cell_type": "code",
   "execution_count": 52,
   "id": "287f2de3",
   "metadata": {},
   "outputs": [
    {
     "name": "stdout",
     "output_type": "stream",
     "text": [
      "interval for the first posterior is (0.071318617198055, 0.37384171348868267)\n"
     ]
    },
    {
     "data": {
      "text/plain": [
       "<matplotlib.legend.Legend at 0x7efe7e253640>"
      ]
     },
     "execution_count": 52,
     "metadata": {},
     "output_type": "execute_result"
    },
    {
     "data": {
      "image/png": "[encoded data removed]",
      "text/plain": [
       "<Figure size 432x288 with 1 Axes>"
      ]
     },
     "metadata": {
      "needs_background": "light"
     },
     "output_type": "display_data"
    }
   ],
   "source": [
    "interval_ = beta.interval(0.95, 5, 20)\n",
    "print(f'interval for the first posterior is {interval_}')\n",
    "plt.plot(x, beta.pdf(x, 5, 20), color='red')\n",
    "plt.axvline(expected_theta1, color='green', linestyle='--')\n",
    "plt.axvline(interval_[0], color='blue', linestyle='--')\n",
    "plt.axvline(interval_[1], color='blue', linestyle='--')\n",
    "max_ = np.argmax(beta.pdf(x, 5, 20))\n",
    "pos_max = x[max_]\n",
    "plt.axvline(pos_max, color='black', linestyle='--')\n",
    "plt.legend(['Posterior 1', 'Expected Theta', '95% CI', 'Max'])"
   ]
  },
  {
   "cell_type": "markdown",
   "id": "1c901140",
   "metadata": {},
   "source": [
    "The position of the maximum is on \n"
   ]
  },
  {
   "cell_type": "code",
   "execution_count": 53,
   "id": "bf95ba30",
   "metadata": {},
   "outputs": [
    {
     "data": {
      "text/plain": [
       "0.17434869739478956"
      ]
     },
     "execution_count": 53,
     "metadata": {},
     "output_type": "execute_result"
    }
   ],
   "source": [
    "pos_max"
   ]
  },
  {
   "cell_type": "code",
   "execution_count": null,
   "id": "4da5a8a1",
   "metadata": {},
   "outputs": [],
   "source": []
  }
 ],
 "metadata": {
  "kernelspec": {
   "display_name": "Python 3.10.4 ('causallearn')",
   "language": "python",
   "name": "python3"
  },
  "language_info": {
   "codemirror_mode": {
    "name": "ipython",
    "version": 3
   },
   "file_extension": ".py",
   "mimetype": "text/x-python",
   "name": "python",
   "nbconvert_exporter": "python",
   "pygments_lexer": "ipython3",
   "version": "3.10.4"
  },
  "vscode": {
   "interpreter": {
    "hash": "a45350f34182685007bf6c0909aa8d8944f20b90087b73806ec905f3260a193d"
   }
  }
 },
 "nbformat": 4,
 "nbformat_minor": 5
}
