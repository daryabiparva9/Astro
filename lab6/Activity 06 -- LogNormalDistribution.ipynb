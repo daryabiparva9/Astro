{
 "cells": [
  {
   "cell_type": "markdown",
   "id": "0cd51130",
   "metadata": {},
   "source": [
    "#### Activity 06\n",
    "\n",
    "Today you will work with the same data as last week, and estinmate the average radius of the sample of Kepler's detected extrasolar planets. \n",
    "\n",
    "\n",
    "You will use the same file \"Planet_Radii.csv\" that can be found in ACTIVITY05 directory on Canvas and that includes the radii of a large sample of extrasolar planets. \n",
    "\n",
    "You will write a code to use a Gibbs sampling algorithm to sample from the posterior distribution of both parameters $\\mu$ and $\\lambda$ of the LogNormal distribution. You will do this for both the improper Jeffreys prior and the more informative priors we discussed in class on Monday. Perform a sensitivity analysis for the proper priors.\n",
    "\n",
    "Use the posterior to estimate the mean radius of the sample of extrasolar planets, together with the 95% credibility interval. \n",
    "\n",
    "Explore how the result changes by varying the chain length: 100, 1000, 10000 when you simulate with the Gibbs sampler.  "
   ]
  },
  {
   "cell_type": "code",
   "execution_count": 24,
   "id": "654b9416",
   "metadata": {},
   "outputs": [],
   "source": [
    "import numpy as np\n",
    "import pandas as pd\n",
    "import matplotlib.pyplot as plt\n",
    "from scipy import stats\n",
    "from statsmodels.graphics.tsaplots import plot_acf\n"
   ]
  },
  {
   "cell_type": "code",
   "execution_count": null,
   "id": "b01cadce",
   "metadata": {},
   "outputs": [],
   "source": []
  },
  {
   "cell_type": "code",
   "execution_count": 2,
   "id": "fcf2907a",
   "metadata": {},
   "outputs": [],
   "source": [
    "df = pd.read_csv('Planet_radii.csv')"
   ]
  },
  {
   "cell_type": "code",
   "execution_count": 3,
   "id": "b1372c4b",
   "metadata": {},
   "outputs": [
    {
     "data": {
      "text/html": [
       "<div>\n",
       "<style scoped>\n",
       "    .dataframe tbody tr th:only-of-type {\n",
       "        vertical-align: middle;\n",
       "    }\n",
       "\n",
       "    .dataframe tbody tr th {\n",
       "        vertical-align: top;\n",
       "    }\n",
       "\n",
       "    .dataframe thead th {\n",
       "        text-align: right;\n",
       "    }\n",
       "</style>\n",
       "<table border=\"1\" class=\"dataframe\">\n",
       "  <thead>\n",
       "    <tr style=\"text-align: right;\">\n",
       "      <th></th>\n",
       "      <th>Radius</th>\n",
       "    </tr>\n",
       "  </thead>\n",
       "  <tbody>\n",
       "    <tr>\n",
       "      <th>0</th>\n",
       "      <td>1.370</td>\n",
       "    </tr>\n",
       "    <tr>\n",
       "      <th>1</th>\n",
       "      <td>2.190</td>\n",
       "    </tr>\n",
       "    <tr>\n",
       "      <th>2</th>\n",
       "      <td>1.240</td>\n",
       "    </tr>\n",
       "    <tr>\n",
       "      <th>3</th>\n",
       "      <td>2.080</td>\n",
       "    </tr>\n",
       "    <tr>\n",
       "      <th>4</th>\n",
       "      <td>1.400</td>\n",
       "    </tr>\n",
       "    <tr>\n",
       "      <th>...</th>\n",
       "      <td>...</td>\n",
       "    </tr>\n",
       "    <tr>\n",
       "      <th>1256</th>\n",
       "      <td>1.620</td>\n",
       "    </tr>\n",
       "    <tr>\n",
       "      <th>1257</th>\n",
       "      <td>2.220</td>\n",
       "    </tr>\n",
       "    <tr>\n",
       "      <th>1258</th>\n",
       "      <td>1.280</td>\n",
       "    </tr>\n",
       "    <tr>\n",
       "      <th>1259</th>\n",
       "      <td>2.469</td>\n",
       "    </tr>\n",
       "    <tr>\n",
       "      <th>1260</th>\n",
       "      <td>1.510</td>\n",
       "    </tr>\n",
       "  </tbody>\n",
       "</table>\n",
       "<p>1261 rows × 1 columns</p>\n",
       "</div>"
      ],
      "text/plain": [
       "      Radius\n",
       "0      1.370\n",
       "1      2.190\n",
       "2      1.240\n",
       "3      2.080\n",
       "4      1.400\n",
       "...      ...\n",
       "1256   1.620\n",
       "1257   2.220\n",
       "1258   1.280\n",
       "1259   2.469\n",
       "1260   1.510\n",
       "\n",
       "[1261 rows x 1 columns]"
      ]
     },
     "execution_count": 3,
     "metadata": {},
     "output_type": "execute_result"
    }
   ],
   "source": [
    "df\n"
   ]
  },
  {
   "cell_type": "code",
   "execution_count": null,
   "id": "058ebaf5",
   "metadata": {},
   "outputs": [],
   "source": []
  },
  {
   "cell_type": "markdown",
   "id": "0378fc92",
   "metadata": {},
   "source": [
    "$\\theta$ , mean planet radius\n",
    "\n",
    "$\\Theta$ = $[0, \\infty)$\n",
    "\n",
    "$x$ observed data\n",
    "\n",
    "$p(x|\\theta)$  likelihood\n",
    "\n",
    "$v(\\theta)$ prior\n"
   ]
  },
  {
   "cell_type": "markdown",
   "id": "e9376d95",
   "metadata": {},
   "source": []
  },
  {
   "cell_type": "markdown",
   "id": "58bf2cda",
   "metadata": {},
   "source": [
    "so if we assume that likelihood is a lognormal distribution.\n"
   ]
  },
  {
   "cell_type": "code",
   "execution_count": 4,
   "id": "8c0004e6",
   "metadata": {},
   "outputs": [
    {
     "data": {
      "text/plain": [
       "(array([0.17633831, 0.48693418, 0.3657016 , 0.13225373, 0.02304421,\n",
       "        0.01202307, 0.00801538, 0.00601153, 0.00400769, 0.00500961,\n",
       "        0.01102114, 0.00701346, 0.00801538, 0.0090173 , 0.00300577,\n",
       "        0.00200384, 0.00100192, 0.00100192, 0.00100192, 0.00100192]),\n",
       " array([ 0.27  ,  1.0615,  1.853 ,  2.6445,  3.436 ,  4.2275,  5.019 ,\n",
       "         5.8105,  6.602 ,  7.3935,  8.185 ,  8.9765,  9.768 , 10.5595,\n",
       "        11.351 , 12.1425, 12.934 , 13.7255, 14.517 , 15.3085, 16.1   ]),\n",
       " <BarContainer object of 20 artists>)"
      ]
     },
     "execution_count": 4,
     "metadata": {},
     "output_type": "execute_result"
    },
    {
     "data": {
      "image/png": "[encoded data removed]",
      "text/plain": [
       "<Figure size 432x288 with 1 Axes>"
      ]
     },
     "metadata": {
      "needs_background": "light"
     },
     "output_type": "display_data"
    }
   ],
   "source": [
    "plt.hist(df['Radius'], bins=20, density=True)"
   ]
  },
  {
   "cell_type": "markdown",
   "id": "14fbf79a",
   "metadata": {},
   "source": [
    "it does not disagree with lognormal distributuion."
   ]
  },
  {
   "cell_type": "code",
   "execution_count": 5,
   "id": "6d587c68",
   "metadata": {},
   "outputs": [],
   "source": [
    "y = np.log(df['Radius'])\n",
    "df['lograd'] = y"
   ]
  },
  {
   "cell_type": "code",
   "execution_count": 6,
   "id": "ef881fd4",
   "metadata": {},
   "outputs": [
    {
     "data": {
      "text/html": [
       "<div>\n",
       "<style scoped>\n",
       "    .dataframe tbody tr th:only-of-type {\n",
       "        vertical-align: middle;\n",
       "    }\n",
       "\n",
       "    .dataframe tbody tr th {\n",
       "        vertical-align: top;\n",
       "    }\n",
       "\n",
       "    .dataframe thead th {\n",
       "        text-align: right;\n",
       "    }\n",
       "</style>\n",
       "<table border=\"1\" class=\"dataframe\">\n",
       "  <thead>\n",
       "    <tr style=\"text-align: right;\">\n",
       "      <th></th>\n",
       "      <th>Radius</th>\n",
       "      <th>lograd</th>\n",
       "    </tr>\n",
       "  </thead>\n",
       "  <tbody>\n",
       "    <tr>\n",
       "      <th>0</th>\n",
       "      <td>1.370</td>\n",
       "      <td>0.314811</td>\n",
       "    </tr>\n",
       "    <tr>\n",
       "      <th>1</th>\n",
       "      <td>2.190</td>\n",
       "      <td>0.783902</td>\n",
       "    </tr>\n",
       "    <tr>\n",
       "      <th>2</th>\n",
       "      <td>1.240</td>\n",
       "      <td>0.215111</td>\n",
       "    </tr>\n",
       "    <tr>\n",
       "      <th>3</th>\n",
       "      <td>2.080</td>\n",
       "      <td>0.732368</td>\n",
       "    </tr>\n",
       "    <tr>\n",
       "      <th>4</th>\n",
       "      <td>1.400</td>\n",
       "      <td>0.336472</td>\n",
       "    </tr>\n",
       "    <tr>\n",
       "      <th>...</th>\n",
       "      <td>...</td>\n",
       "      <td>...</td>\n",
       "    </tr>\n",
       "    <tr>\n",
       "      <th>1256</th>\n",
       "      <td>1.620</td>\n",
       "      <td>0.482426</td>\n",
       "    </tr>\n",
       "    <tr>\n",
       "      <th>1257</th>\n",
       "      <td>2.220</td>\n",
       "      <td>0.797507</td>\n",
       "    </tr>\n",
       "    <tr>\n",
       "      <th>1258</th>\n",
       "      <td>1.280</td>\n",
       "      <td>0.246860</td>\n",
       "    </tr>\n",
       "    <tr>\n",
       "      <th>1259</th>\n",
       "      <td>2.469</td>\n",
       "      <td>0.903813</td>\n",
       "    </tr>\n",
       "    <tr>\n",
       "      <th>1260</th>\n",
       "      <td>1.510</td>\n",
       "      <td>0.412110</td>\n",
       "    </tr>\n",
       "  </tbody>\n",
       "</table>\n",
       "<p>1261 rows × 2 columns</p>\n",
       "</div>"
      ],
      "text/plain": [
       "      Radius    lograd\n",
       "0      1.370  0.314811\n",
       "1      2.190  0.783902\n",
       "2      1.240  0.215111\n",
       "3      2.080  0.732368\n",
       "4      1.400  0.336472\n",
       "...      ...       ...\n",
       "1256   1.620  0.482426\n",
       "1257   2.220  0.797507\n",
       "1258   1.280  0.246860\n",
       "1259   2.469  0.903813\n",
       "1260   1.510  0.412110\n",
       "\n",
       "[1261 rows x 2 columns]"
      ]
     },
     "execution_count": 6,
     "metadata": {},
     "output_type": "execute_result"
    }
   ],
   "source": [
    "df"
   ]
  },
  {
   "cell_type": "code",
   "execution_count": 9,
   "id": "80c54639",
   "metadata": {},
   "outputs": [],
   "source": [
    "np.random.seed(5731)"
   ]
  },
  {
   "cell_type": "code",
   "execution_count": 10,
   "id": "1c3a7619",
   "metadata": {},
   "outputs": [],
   "source": [
    "n = len(df['lograd'])"
   ]
  },
  {
   "cell_type": "code",
   "execution_count": 14,
   "id": "7b0e0d29",
   "metadata": {},
   "outputs": [],
   "source": [
    "y_bar = np.mean(df['lograd'])\n",
    "sv_y = np.var(df['lograd'])"
   ]
  },
  {
   "cell_type": "code",
   "execution_count": 16,
   "id": "6a51a05a",
   "metadata": {},
   "outputs": [],
   "source": [
    "miness = 7529\n",
    "#I did not understand this part, so I just used the number from the slides\n"
   ]
  },
  {
   "cell_type": "code",
   "execution_count": 17,
   "id": "ca248d8f",
   "metadata": {},
   "outputs": [],
   "source": [
    "msim = 10000\n",
    "\n",
    "markov = np.zeros((msim, 2))\n",
    "markov[0,:] = [y_bar, sv_y]\n"
   ]
  },
  {
   "cell_type": "code",
   "execution_count": 20,
   "id": "73bcd281",
   "metadata": {},
   "outputs": [],
   "source": [
    "for i in range(1, msim):\n",
    "    markov[i, 0] = np.random.normal(y_bar, scale=np.sqrt(markov[i-1, 1]/n), size=1)\n",
    "    markov[i, 1] = stats.invgamma.rvs(a=n/2,loc=0, scale=(n*(markov[i-1, 0]-y_bar)**2 + (n-1)*sv_y)/2, size=1)"
   ]
  },
  {
   "cell_type": "code",
   "execution_count": 21,
   "id": "4d1276d3",
   "metadata": {},
   "outputs": [
    {
     "data": {
      "text/plain": [
       "<matplotlib.collections.PathCollection at 0x7f07ffd7c3a0>"
      ]
     },
     "execution_count": 21,
     "metadata": {},
     "output_type": "execute_result"
    },
    {
     "data": {
      "image/png": "[encoded data removed]",
      "text/plain": [
       "<Figure size 432x288 with 1 Axes>"
      ]
     },
     "metadata": {
      "needs_background": "light"
     },
     "output_type": "display_data"
    }
   ],
   "source": [
    "plt.scatter(np.arange(msim),markov[:, 0])\n"
   ]
  },
  {
   "cell_type": "code",
   "execution_count": 22,
   "id": "7afe3f98",
   "metadata": {},
   "outputs": [
    {
     "data": {
      "text/plain": [
       "<matplotlib.collections.PathCollection at 0x7f07ffa180a0>"
      ]
     },
     "execution_count": 22,
     "metadata": {},
     "output_type": "execute_result"
    },
    {
     "data": {
      "image/png": "[encoded data removed]",
      "text/plain": [
       "<Figure size 432x288 with 1 Axes>"
      ]
     },
     "metadata": {
      "needs_background": "light"
     },
     "output_type": "display_data"
    }
   ],
   "source": [
    "plt.scatter(np.arange(msim),markov[:, 1])"
   ]
  },
  {
   "cell_type": "code",
   "execution_count": 27,
   "id": "27c6f37b",
   "metadata": {},
   "outputs": [
    {
     "data": {
      "image/png": "[encoded data removed]",
      "text/plain": [
       "<Figure size 432x288 with 1 Axes>"
      ]
     },
     "execution_count": 27,
     "metadata": {},
     "output_type": "execute_result"
    },
    {
     "data": {
      "image/png": "[encoded data removed]",
      "text/plain": [
       "<Figure size 432x288 with 1 Axes>"
      ]
     },
     "metadata": {
      "needs_background": "light"
     },
     "output_type": "display_data"
    }
   ],
   "source": [
    "plot_acf(markov[:, 0], lags=20, alpha=0.05)"
   ]
  },
  {
   "cell_type": "code",
   "execution_count": 30,
   "id": "a02459b0",
   "metadata": {},
   "outputs": [
    {
     "data": {
      "image/png": "[encoded data removed]",
      "text/plain": [
       "<Figure size 432x288 with 1 Axes>"
      ]
     },
     "metadata": {
      "needs_background": "light"
     },
     "output_type": "display_data"
    }
   ],
   "source": [
    "plot_acf(markov[:, 1], lags=20, alpha=0.05)\n",
    "\n",
    "plt.show()"
   ]
  },
  {
   "cell_type": "markdown",
   "id": "f423fb77",
   "metadata": {},
   "source": [
    "Both of them show no linear dependency between the lags."
   ]
  },
  {
   "cell_type": "code",
   "execution_count": null,
   "id": "ceff0921",
   "metadata": {},
   "outputs": [],
   "source": [
    "theta = np.exp(markov[:, 0] + markov[:, 1]/2)\n"
   ]
  }
 ],
 "metadata": {
  "kernelspec": {
   "display_name": "Python 3.10.4 ('newenv')",
   "language": "python",
   "name": "python3"
  },
  "language_info": {
   "codemirror_mode": {
    "name": "ipython",
    "version": 3
   },
   "file_extension": ".py",
   "mimetype": "text/x-python",
   "name": "python",
   "nbconvert_exporter": "python",
   "pygments_lexer": "ipython3",
   "version": "3.10.4"
  },
  "vscode": {
   "interpreter": {
    "hash": "824d35c8460ebefb36087b1e63f98b8cd66fa04984987364dae71562a8ab3433"
   }
  }
 },
 "nbformat": 4,
 "nbformat_minor": 5
}
