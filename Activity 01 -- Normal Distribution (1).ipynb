{
 "cells": [
  {
   "cell_type": "markdown",
   "id": "ce4e8484",
   "metadata": {},
   "source": [
    "## Activity 01\n",
    "\n",
    "This activity is meant for you to start practicing with the ideas of inference, simulations, posteriors and Bayesian best practices. \n",
    "\n",
    "The Panoramic Survey Telescope & Rapid Response System ([Pan-STARRS](http://legacy.ifa.hawaii.edu/research/Pan-STARRS.shtml)) is a wide-field imaging telescope that is observing the sky repeatedly to conduct a number of Galactic and Extragalactic studies. The data are released periodically, and the catalogs includes measurements in five filters ([grizy](https://outerspace.stsci.edu/display/PANSTARRS/PS1+Filter+properties)) covering 30,000 square degrees of the sky, with typically ~12 epochs for each filter. \n",
    "\n",
    "The archive [interface](https://catalogs.mast.stsci.edu/panstarrs/) allows to search the second data release (DR2) and download all the multi-epoch observations for any object covered by the Survey.\n",
    "\n",
    "In this activity, we will accurately estimate the flux of the standard star BD+28 4211. Standard stars are objects whose flux does not change with time (over sufficiently long timescales) and knowing their precise flux is extremely important in astronomy as it is used to remove instrumental effects from astronomical observations. \n",
    "\n",
    "The file BD+284211.csv includes repeated flux measurements for BD+28 4211 in the i filter, as a function of time.\n",
    "The columns are as follows:\n",
    "\n",
    "- objID      : object identifier\t\n",
    "- filterID\t : filter used for the observations \n",
    "- obsTime\t : time of the observation (Modified Julian Date at the midpoint of the observation) in days\n",
    "- ra\t     : Right Ascension of the object \n",
    "- dec\t     : Declination of the object \n",
    "             (RA and Dec are analog of Latitude and longitude)\n",
    "- psfFlux\t : flux of the star in Jy\n",
    "- psfFluxErr : measurement error\n",
    "- infoFlag2  : flag on the measurement [0 = good measurement, 32 = fitted with 2 PSF, problematic]\n",
    "\n",
    "You will use these data to estimate the flux of BD+28 4211, and report the result. \n",
    "\n",
    "**1**\n",
    "Perform a visual inspection of the data. Do you see anything unusual?\n",
    "\n",
    "Have the fluxes remained constant during the observation period?\n",
    "\n",
    "Anything special about the fluxes that have flags different from 0?\n",
    "\n",
    "Plot the distribution of fluxes.\n",
    "\n",
    "**2**\n",
    "Clearly explain the statistical model you use, including the likelihood function and the prior that you chose. Clearly explain how you compute the constants for the prior.\n",
    "\n",
    "**3**\n",
    "Write a code to compute the model. Follow best practices when writing your code [you will share the code with us]. Make sure the code is well commented and can easily be read by humans. Check that the code's paths are not specific to your machine. For reproducibility, set the seed for the pseudo-random number generator explicitly to 5731. \n",
    "\n",
    "**4**\n",
    "Plot the posterior distribution function, and compute the position of the posterior's maximum and its 95\\% credible interval. \n",
    "\n",
    "**5**\n",
    "Draw a random sample of size N=100 from the posterior distribution. Plot the distribution of this sample and compare it with the analytical expression. Compute the aritmetic mean and the difference between this and the mean of the posterior. Are they the same? \n",
    "\n",
    "Now consider 5 increasing values of N, from 10$^2$ to 10$^5$, linear in log step. For each sample compute the difference between the arithmetic mean and posterior mean. Comment on the trend between the difference and N.\n",
    "\n",
    "**6**\n",
    "Describe and justify any decisions you made. [E.g., what dis you do with the flagged measurements?]\n",
    "\n",
    "**7**\n",
    "Perform and describe a sensitivity analysis (i.e., discuss how the choice of the prior influences the result).\n",
    "\n"
   ]
  },
  {
   "cell_type": "code",
   "execution_count": 1,
   "id": "cc28a53b",
   "metadata": {},
   "outputs": [],
   "source": [
    "import pandas as pd"
   ]
  },
  {
   "cell_type": "code",
   "execution_count": 2,
   "id": "fe950633",
   "metadata": {},
   "outputs": [],
   "source": [
    "df = pd.read_csv('BD+28 4211.csv')"
   ]
  },
  {
   "cell_type": "code",
   "execution_count": 5,
   "id": "d6248774",
   "metadata": {},
   "outputs": [],
   "source": [
    "import matplotlib.pyplot as plt"
   ]
  },
  {
   "cell_type": "code",
   "execution_count": 6,
   "id": "0f06ec12",
   "metadata": {},
   "outputs": [],
   "source": [
    "flag0 = df.loc[df['infoFlag2'] == 0]"
   ]
  },
  {
   "cell_type": "code",
   "execution_count": 8,
   "id": "eb647238",
   "metadata": {},
   "outputs": [],
   "source": [
    "flag32 = df.loc[df['infoFlag2'] == 32]"
   ]
  },
  {
   "cell_type": "code",
   "execution_count": 9,
   "id": "04b29107",
   "metadata": {},
   "outputs": [
    {
     "data": {
      "text/html": [
       "<div>\n",
       "<style scoped>\n",
       "    .dataframe tbody tr th:only-of-type {\n",
       "        vertical-align: middle;\n",
       "    }\n",
       "\n",
       "    .dataframe tbody tr th {\n",
       "        vertical-align: top;\n",
       "    }\n",
       "\n",
       "    .dataframe thead th {\n",
       "        text-align: right;\n",
       "    }\n",
       "</style>\n",
       "<table border=\"1\" class=\"dataframe\">\n",
       "  <thead>\n",
       "    <tr style=\"text-align: right;\">\n",
       "      <th></th>\n",
       "      <th>objID</th>\n",
       "      <th>filterID</th>\n",
       "      <th>obsTime</th>\n",
       "      <th>ra</th>\n",
       "      <th>dec</th>\n",
       "      <th>airMass</th>\n",
       "      <th>psfFlux</th>\n",
       "      <th>psfFluxErr</th>\n",
       "      <th>infoFlag2</th>\n",
       "    </tr>\n",
       "  </thead>\n",
       "  <tbody>\n",
       "    <tr>\n",
       "      <th>0</th>\n",
       "      <td>142623277801099039</td>\n",
       "      <td>3</td>\n",
       "      <td>55783.533723</td>\n",
       "      <td>327.780210</td>\n",
       "      <td>28.856972</td>\n",
       "      <td>1.10768</td>\n",
       "      <td>0.000012</td>\n",
       "      <td>0.000001</td>\n",
       "      <td>32</td>\n",
       "    </tr>\n",
       "    <tr>\n",
       "      <th>1</th>\n",
       "      <td>142623277801099039</td>\n",
       "      <td>3</td>\n",
       "      <td>55783.545668</td>\n",
       "      <td>327.780254</td>\n",
       "      <td>28.856969</td>\n",
       "      <td>1.14538</td>\n",
       "      <td>0.000011</td>\n",
       "      <td>0.000001</td>\n",
       "      <td>32</td>\n",
       "    </tr>\n",
       "    <tr>\n",
       "      <th>3</th>\n",
       "      <td>142623277801099039</td>\n",
       "      <td>3</td>\n",
       "      <td>56145.550525</td>\n",
       "      <td>327.780095</td>\n",
       "      <td>28.857105</td>\n",
       "      <td>1.13188</td>\n",
       "      <td>0.000010</td>\n",
       "      <td>0.000002</td>\n",
       "      <td>32</td>\n",
       "    </tr>\n",
       "    <tr>\n",
       "      <th>11</th>\n",
       "      <td>142623277801099039</td>\n",
       "      <td>3</td>\n",
       "      <td>56545.307819</td>\n",
       "      <td>327.780136</td>\n",
       "      <td>28.857054</td>\n",
       "      <td>1.08683</td>\n",
       "      <td>0.000009</td>\n",
       "      <td>0.000002</td>\n",
       "      <td>32</td>\n",
       "    </tr>\n",
       "  </tbody>\n",
       "</table>\n",
       "</div>"
      ],
      "text/plain": [
       "                 objID  filterID       obsTime          ra        dec  \\\n",
       "0   142623277801099039         3  55783.533723  327.780210  28.856972   \n",
       "1   142623277801099039         3  55783.545668  327.780254  28.856969   \n",
       "3   142623277801099039         3  56145.550525  327.780095  28.857105   \n",
       "11  142623277801099039         3  56545.307819  327.780136  28.857054   \n",
       "\n",
       "    airMass   psfFlux  psfFluxErr  infoFlag2  \n",
       "0   1.10768  0.000012    0.000001         32  \n",
       "1   1.14538  0.000011    0.000001         32  \n",
       "3   1.13188  0.000010    0.000002         32  \n",
       "11  1.08683  0.000009    0.000002         32  "
      ]
     },
     "execution_count": 9,
     "metadata": {},
     "output_type": "execute_result"
    }
   ],
   "source": [
    "flag32"
   ]
  },
  {
   "cell_type": "code",
   "execution_count": 10,
   "id": "7dd191b6",
   "metadata": {},
   "outputs": [
    {
     "data": {
      "text/plain": [
       "<AxesSubplot:xlabel='obsTime', ylabel='psfFlux'>"
      ]
     },
     "execution_count": 10,
     "metadata": {},
     "output_type": "execute_result"
    },
    {
     "data": {
      "image/png": "[encoded data removed]",
      "text/plain": [
       "<Figure size 432x288 with 1 Axes>"
      ]
     },
     "metadata": {
      "needs_background": "light"
     },
     "output_type": "display_data"
    },
    {
     "data": {
      "image/png": "[encoded data removed]",
      "text/plain": [
       "<Figure size 432x288 with 1 Axes>"
      ]
     },
     "metadata": {
      "needs_background": "light"
     },
     "output_type": "display_data"
    }
   ],
   "source": [
    "flag0.plot('obsTime', 'psfFlux', kind='scatter')\n",
    "flag32.plot('obsTime', 'psfFlux', kind='scatter', color='red')"
   ]
  },
  {
   "cell_type": "markdown",
   "id": "ea4fab7f",
   "metadata": {},
   "source": [
    "The fluxes have not stayed constant over the period of observation\n",
    "the fluxed flagged 32 are numerically less that fluxes that are flagged 0"
   ]
  },
  {
   "cell_type": "code",
   "execution_count": 15,
   "id": "4a87e602",
   "metadata": {},
   "outputs": [
    {
     "data": {
      "text/plain": [
       "(array([2., 0., 1., 0., 4., 1., 0., 0., 0., 2., 2., 2.]),\n",
       " array([9.33562023e-06, 9.96826028e-06, 1.06009003e-05, 1.12335404e-05,\n",
       "        1.18661804e-05, 1.24988204e-05, 1.31314605e-05, 1.37641005e-05,\n",
       "        1.43967406e-05, 1.50293806e-05, 1.56620207e-05, 1.62946607e-05,\n",
       "        1.69273007e-05]),\n",
       " <BarContainer object of 12 artists>)"
      ]
     },
     "execution_count": 15,
     "metadata": {},
     "output_type": "execute_result"
    },
    {
     "data": {
      "image/png": "[encoded data removed]",
      "text/plain": [
       "<Figure size 432x288 with 1 Axes>"
      ]
     },
     "metadata": {
      "needs_background": "light"
     },
     "output_type": "display_data"
    }
   ],
   "source": [
    "plt.hist(df['psfFlux'], bins=12)"
   ]
  },
  {
   "cell_type": "code",
   "execution_count": null,
   "id": "4cb1fe9a",
   "metadata": {},
   "outputs": [],
   "source": []
  },
  {
   "cell_type": "markdown",
   "id": "4ec280ed",
   "metadata": {},
   "source": [
    "The distribution of the fluxes does not look normal. But we need to consider that the number of observations is very low. so maybe the fact that it is somewhat centered around what it looks like is the mean is enough"
   ]
  },
  {
   "cell_type": "code",
   "execution_count": null,
   "id": "736391fe",
   "metadata": {},
   "outputs": [],
   "source": []
  },
  {
   "cell_type": "markdown",
   "id": "41f87117",
   "metadata": {},
   "source": [
    "Question 2\n",
    "For the prior distribution: I do not have any prior knowlede of what the flux of a start might be centered around, so maybe choosing a normal distribution centered around 0 with a very high variance is a good choice. It kinda dictated the system that all the numbers close enough to zero have the same probability of happening. Which is not true.\n",
    "\n",
    "for the likelihood function, we also choose a normal distribution which is centered around the mean of the data and it's variance is the mean of the flux error.\n",
    "\n",
    "Thus, our posterior function also is a normal distribution. To define a normal distribution you just need the mean and the variance. To find the mean and the variance of the posterior distribution.\n",
    "\n",
    "the mean is calculated the following way: \n",
    "\\begin{align*}\n",
    "\\hat{\\theta} = (\\frac{n}{v} + \\frac{1}{b})^{-1}(\\frac{n\\bar{x}}{v} + \\frac{a}{b})\\\\\n",
    "variance = (\\frac{n}{v} + \\frac{1}{b})^{-1}\n",
    "\\end{align*}\n"
   ]
  },
  {
   "cell_type": "code",
   "execution_count": 16,
   "id": "92eccbd6",
   "metadata": {},
   "outputs": [],
   "source": [
    "x_bar = df['psfFlux'].mean()"
   ]
  },
  {
   "cell_type": "code",
   "execution_count": 17,
   "id": "04955c70",
   "metadata": {},
   "outputs": [],
   "source": [
    "n = len(df['psfFlux'])"
   ]
  },
  {
   "cell_type": "code",
   "execution_count": 18,
   "id": "65a6c0ed",
   "metadata": {},
   "outputs": [
    {
     "data": {
      "text/plain": [
       "14"
      ]
     },
     "execution_count": 18,
     "metadata": {},
     "output_type": "execute_result"
    }
   ],
   "source": [
    "n"
   ]
  },
  {
   "cell_type": "code",
   "execution_count": 19,
   "id": "bd6520f4",
   "metadata": {},
   "outputs": [],
   "source": [
    "a = 0\n",
    "b = 10\n",
    "#Because I don't have any prior knowledge about theta, so I set the variance large! and mean to zero\n",
    "v = df['psfFluxErr'].mean()\n"
   ]
  },
  {
   "cell_type": "code",
   "execution_count": 20,
   "id": "2b0a57df",
   "metadata": {},
   "outputs": [
    {
     "data": {
      "text/plain": [
       "1.3389646976123754e-05"
      ]
     },
     "execution_count": 20,
     "metadata": {},
     "output_type": "execute_result"
    }
   ],
   "source": [
    "theta_bar = (n/v + 1/b)**(-1) * (n* x_bar/v + a/b)\n",
    "theta_bar"
   ]
  },
  {
   "cell_type": "code",
   "execution_count": 21,
   "id": "5cab1775",
   "metadata": {},
   "outputs": [
    {
     "data": {
      "text/plain": [
       "1.1698209168704278e-07"
      ]
     },
     "execution_count": 21,
     "metadata": {},
     "output_type": "execute_result"
    }
   ],
   "source": [
    "post_var = (n/v + 1/b)**(-1)\n",
    "post_var"
   ]
  },
  {
   "cell_type": "markdown",
   "id": "3aff1d3c",
   "metadata": {},
   "source": [
    "Question 4"
   ]
  },
  {
   "cell_type": "code",
   "execution_count": 46,
   "id": "467681e2",
   "metadata": {},
   "outputs": [
    {
     "data": {
      "text/plain": [
       "<matplotlib.lines.Line2D at 0x7f6771c03a60>"
      ]
     },
     "execution_count": 46,
     "metadata": {},
     "output_type": "execute_result"
    },
    {
     "data": {
      "image/png": "[encoded data removed]",
      "text/plain": [
       "<Figure size 432x288 with 1 Axes>"
      ]
     },
     "metadata": {
      "needs_background": "light"
     },
     "output_type": "display_data"
    }
   ],
   "source": [
    "##########plotting the function\n",
    "\n",
    "import numpy as np\n",
    "import matplotlib.pyplot as plt\n",
    "from scipy.stats import norm\n",
    "import statistics\n",
    "  \n",
    "# Plot between -10 and 10 with .001 steps.\n",
    "x_axis = np.arange(1.25e-5, 1.45e-5, 0.00000001)\n",
    "  \n",
    "\n",
    "  \n",
    "plt.plot(x_axis, norm.pdf(x_axis, theta_bar, post_var))\n",
    "high = theta_bar + 2*(post_var)\n",
    "low = theta_bar - 2*post_var\n",
    "plt.fill_between(x_axis, norm.pdf(x_axis, theta_bar, post_var), where= (x_axis >low) & (x_axis < high))\n",
    "plt.axvline(x=theta_bar, color='r', linestyle='--')"
   ]
  },
  {
   "cell_type": "markdown",
   "id": "efb6dfff",
   "metadata": {},
   "source": [
    "the above is the function of posterior disribution we found. \n",
    "the mean is the red line and 95% of mass is higlighted with blue"
   ]
  },
  {
   "cell_type": "markdown",
   "id": "d5b791cb",
   "metadata": {},
   "source": []
  }
 ],
 "metadata": {
  "kernelspec": {
   "display_name": "Python 3.10.4 ('causallearn')",
   "language": "python",
   "name": "python3"
  },
  "language_info": {
   "codemirror_mode": {
    "name": "ipython",
    "version": 3
   },
   "file_extension": ".py",
   "mimetype": "text/x-python",
   "name": "python",
   "nbconvert_exporter": "python",
   "pygments_lexer": "ipython3",
   "version": "3.10.4"
  },
  "vscode": {
   "interpreter": {
    "hash": "a45350f34182685007bf6c0909aa8d8944f20b90087b73806ec905f3260a193d"
   }
  }
 },
 "nbformat": 4,
 "nbformat_minor": 5
}
