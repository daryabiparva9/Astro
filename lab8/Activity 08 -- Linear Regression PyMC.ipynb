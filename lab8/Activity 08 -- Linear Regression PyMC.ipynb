{
 "cells": [
  {
   "cell_type": "markdown",
   "id": "c34a54d7",
   "metadata": {},
   "source": [
    "## Activity 09\n",
    "\n",
    "The file ```Cepheids_DATA_errMVerrP.csv``` contains the data for a sample of Cepheids variable stars. Specifically, the columns in the files are:\n",
    "\n",
    "- MV: absolute magnitude in the V band\n",
    "- MV_err: error on the absolute magnitude\n",
    "- LogP: logarithm of the pulsations period\n",
    "- LogP_err: error on the logarithm of the period\n",
    "\n",
    "You want to use these data to estimate the best period-luminosity relation (with associated errorbars) that can then be used to calibrate distances in nearby galaxies. \n",
    "\n",
    "Using an MCMC software of your choice, write two Bayesian linear regression models, one that does not include errors and one that includes errors in both x and y. Make sure to organize the analysis with the 6 steps discussed in class. \n",
    "\n",
    "Plot the estimated posterior distributions of the parameters of the linear models (marginalizing over the intrinsic dispersion), and summarize your results with your best estimate for the parameters and their 95% credibility intervals. \n",
    "\n",
    "Plot the data and overplot your best-fit line with the 95% credibility region on the data."
   ]
  },
  {
   "cell_type": "markdown",
   "id": "a650fd0f",
   "metadata": {},
   "source": []
  },
  {
   "cell_type": "code",
   "execution_count": null,
   "id": "54cb3a50",
   "metadata": {},
   "outputs": [],
   "source": [
    "import numpy as np\n",
    "import matplotlib.pyplot as plt\n",
    "from scipy.stats import poisson\n",
    "from astropy.io import ascii\n",
    "from sklearn.linear_model import LinearRegression\n",
    "import arviz as az\n",
    "import pymc as pm\n",
    "\n",
    "%config InlineBackend.figure_format = 'retina'\n",
    "\n",
    "az.style.use(\"arviz-darkgrid\")\n",
    "\n",
    "'''\n",
    "data = ascii.read('M_sigma.csv')\n",
    "\n",
    "x1=data['obsx'].data\n",
    "x2= data['obsx'].data*0. + np.random.randn(len(x1))\n",
    "y=data['obsy'].data\n",
    "\n",
    "'''\n",
    "\n",
    "data = ascii.read('Cepheids_DATA_all.csv')\n",
    "\n",
    "y=data['MV']\n",
    "x1=data['LogP']\n",
    "x2=data['[Fe/H]']"
   ]
  },
  {
   "cell_type": "code",
   "execution_count": null,
   "id": "9ab3da60",
   "metadata": {},
   "outputs": [],
   "source": []
  }
 ],
 "metadata": {
  "kernelspec": {
   "display_name": "Python 3.11.0 ('pymc_env')",
   "language": "python",
   "name": "python3"
  },
  "language_info": {
   "codemirror_mode": {
    "name": "ipython",
    "version": 3
   },
   "file_extension": ".py",
   "mimetype": "text/x-python",
   "name": "python",
   "nbconvert_exporter": "python",
   "pygments_lexer": "ipython3",
   "version": "3.11.0"
  },
  "vscode": {
   "interpreter": {
    "hash": "e0781cbbfd1f183b870d661932f5754a3b7b1d9ac1709fcae8e1f416d6c8b80c"
   }
  }
 },
 "nbformat": 4,
 "nbformat_minor": 5
}
