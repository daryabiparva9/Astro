{
 "cells": [
  {
   "cell_type": "markdown",
   "id": "0cd51130",
   "metadata": {},
   "source": [
    "#### Activity 05\n",
    "\n",
    "Today you will work with extrasolar planets. \n",
    "\n",
    "On Monday you sae how radii of extrasolar planets can be computed using the drop in the star flux while a planet passes in front of the star. \n",
    "\n",
    "The file \"Planet_Radii.csv\" includes the radii of a large sample of extrasolar planets identified by the Kepler telescope. \n",
    "The data were taken from [here](https://exoplanetarchive.ipac.caltech.edu/docs/data.html). \n",
    "\n",
    "You will use the reported data to estimate the parameter $\\mu$ of the LogNormal distribution marginalizing over the value of $\\lambda$. \n",
    "\n",
    "In the analysis, as usual, follow the best practice guidelines posted on Canvas.  \n"
   ]
  },
  {
   "cell_type": "code",
   "execution_count": 1,
   "id": "af70147a",
   "metadata": {},
   "outputs": [],
   "source": [
    "import numpy as np\n",
    "import pandas as pd\n"
   ]
  },
  {
   "cell_type": "code",
   "execution_count": 4,
   "id": "3e89946d",
   "metadata": {},
   "outputs": [],
   "source": [
    "planet = pd.read_csv('Planet_radii.csv')"
   ]
  },
  {
   "cell_type": "code",
   "execution_count": 5,
   "id": "eb06adc3",
   "metadata": {},
   "outputs": [
    {
     "data": {
      "text/html": [
       "<div>\n",
       "<style scoped>\n",
       "    .dataframe tbody tr th:only-of-type {\n",
       "        vertical-align: middle;\n",
       "    }\n",
       "\n",
       "    .dataframe tbody tr th {\n",
       "        vertical-align: top;\n",
       "    }\n",
       "\n",
       "    .dataframe thead th {\n",
       "        text-align: right;\n",
       "    }\n",
       "</style>\n",
       "<table border=\"1\" class=\"dataframe\">\n",
       "  <thead>\n",
       "    <tr style=\"text-align: right;\">\n",
       "      <th></th>\n",
       "      <th>Radius</th>\n",
       "    </tr>\n",
       "  </thead>\n",
       "  <tbody>\n",
       "    <tr>\n",
       "      <th>0</th>\n",
       "      <td>1.370</td>\n",
       "    </tr>\n",
       "    <tr>\n",
       "      <th>1</th>\n",
       "      <td>2.190</td>\n",
       "    </tr>\n",
       "    <tr>\n",
       "      <th>2</th>\n",
       "      <td>1.240</td>\n",
       "    </tr>\n",
       "    <tr>\n",
       "      <th>3</th>\n",
       "      <td>2.080</td>\n",
       "    </tr>\n",
       "    <tr>\n",
       "      <th>4</th>\n",
       "      <td>1.400</td>\n",
       "    </tr>\n",
       "    <tr>\n",
       "      <th>...</th>\n",
       "      <td>...</td>\n",
       "    </tr>\n",
       "    <tr>\n",
       "      <th>1256</th>\n",
       "      <td>1.620</td>\n",
       "    </tr>\n",
       "    <tr>\n",
       "      <th>1257</th>\n",
       "      <td>2.220</td>\n",
       "    </tr>\n",
       "    <tr>\n",
       "      <th>1258</th>\n",
       "      <td>1.280</td>\n",
       "    </tr>\n",
       "    <tr>\n",
       "      <th>1259</th>\n",
       "      <td>2.469</td>\n",
       "    </tr>\n",
       "    <tr>\n",
       "      <th>1260</th>\n",
       "      <td>1.510</td>\n",
       "    </tr>\n",
       "  </tbody>\n",
       "</table>\n",
       "<p>1261 rows × 1 columns</p>\n",
       "</div>"
      ],
      "text/plain": [
       "      Radius\n",
       "0      1.370\n",
       "1      2.190\n",
       "2      1.240\n",
       "3      2.080\n",
       "4      1.400\n",
       "...      ...\n",
       "1256   1.620\n",
       "1257   2.220\n",
       "1258   1.280\n",
       "1259   2.469\n",
       "1260   1.510\n",
       "\n",
       "[1261 rows x 1 columns]"
      ]
     },
     "execution_count": 5,
     "metadata": {},
     "output_type": "execute_result"
    }
   ],
   "source": [
    "planet"
   ]
  },
  {
   "cell_type": "code",
   "execution_count": 6,
   "id": "6a005637",
   "metadata": {},
   "outputs": [],
   "source": [
    "import matplotlib.pyplot as plt"
   ]
  },
  {
   "cell_type": "code",
   "execution_count": 8,
   "id": "0d9874f6",
   "metadata": {},
   "outputs": [
    {
     "data": {
      "text/plain": [
       "(array([662., 497.,  35.,  14.,   9.,  18.,  17.,   5.,   2.,   2.]),\n",
       " array([ 0.27 ,  1.853,  3.436,  5.019,  6.602,  8.185,  9.768, 11.351,\n",
       "        12.934, 14.517, 16.1  ]),\n",
       " <BarContainer object of 10 artists>)"
      ]
     },
     "execution_count": 8,
     "metadata": {},
     "output_type": "execute_result"
    },
    {
     "data": {
      "image/png": "[encoded data removed]",
      "text/plain": [
       "<Figure size 432x288 with 1 Axes>"
      ]
     },
     "metadata": {
      "needs_background": "light"
     },
     "output_type": "display_data"
    }
   ],
   "source": [
    "plt.hist(planet['Radius'], bins=10)"
   ]
  },
  {
   "cell_type": "code",
   "execution_count": 9,
   "id": "f101494c",
   "metadata": {},
   "outputs": [
    {
     "data": {
      "text/plain": [
       "Radius    2.20362\n",
       "dtype: float64"
      ]
     },
     "execution_count": 9,
     "metadata": {},
     "output_type": "execute_result"
    }
   ],
   "source": [
    "planet.mean()"
   ]
  },
  {
   "cell_type": "code",
   "execution_count": 10,
   "id": "4e75e99c",
   "metadata": {},
   "outputs": [
    {
     "data": {
      "text/plain": [
       "Radius    1.869886\n",
       "dtype: float64"
      ]
     },
     "execution_count": 10,
     "metadata": {},
     "output_type": "execute_result"
    }
   ],
   "source": [
    "planet.std()"
   ]
  },
  {
   "cell_type": "markdown",
   "id": "7f31c5b1",
   "metadata": {},
   "source": [
    "This distribution does look like a log normal."
   ]
  },
  {
   "cell_type": "code",
   "execution_count": 11,
   "id": "796a51d0",
   "metadata": {},
   "outputs": [],
   "source": [
    "log_rad = np.log(planet['Radius'])"
   ]
  },
  {
   "cell_type": "code",
   "execution_count": 12,
   "id": "82214e94",
   "metadata": {},
   "outputs": [
    {
     "data": {
      "text/plain": [
       "0       0.314811\n",
       "1       0.783902\n",
       "2       0.215111\n",
       "3       0.732368\n",
       "4       0.336472\n",
       "          ...   \n",
       "1256    0.482426\n",
       "1257    0.797507\n",
       "1258    0.246860\n",
       "1259    0.903813\n",
       "1260    0.412110\n",
       "Name: Radius, Length: 1261, dtype: float64"
      ]
     },
     "execution_count": 12,
     "metadata": {},
     "output_type": "execute_result"
    }
   ],
   "source": [
    "log_rad"
   ]
  },
  {
   "cell_type": "code",
   "execution_count": null,
   "id": "c391ea4d",
   "metadata": {},
   "outputs": [],
   "source": []
  }
 ],
 "metadata": {
  "kernelspec": {
   "display_name": "Python 3.10.4 ('newenv')",
   "language": "python",
   "name": "python3"
  },
  "language_info": {
   "codemirror_mode": {
    "name": "ipython",
    "version": 3
   },
   "file_extension": ".py",
   "mimetype": "text/x-python",
   "name": "python",
   "nbconvert_exporter": "python",
   "pygments_lexer": "ipython3",
   "version": "3.10.4"
  },
  "vscode": {
   "interpreter": {
    "hash": "824d35c8460ebefb36087b1e63f98b8cd66fa04984987364dae71562a8ab3433"
   }
  }
 },
 "nbformat": 4,
 "nbformat_minor": 5
}
